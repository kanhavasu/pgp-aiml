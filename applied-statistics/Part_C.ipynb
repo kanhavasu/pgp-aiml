{
 "cells": [
  {
   "cell_type": "markdown",
   "id": "f614345a",
   "metadata": {},
   "source": [
    "# Part C #"
   ]
  },
  {
   "cell_type": "code",
   "execution_count": 1,
   "id": "9054452a",
   "metadata": {},
   "outputs": [],
   "source": [
    "# Lets import the necessary libraries\n",
    "import pandas as pd"
   ]
  },
  {
   "cell_type": "markdown",
   "id": "01ab84e6",
   "metadata": {},
   "source": [
    "1. Read the CSV file."
   ]
  },
  {
   "cell_type": "code",
   "execution_count": 2,
   "id": "574864fa",
   "metadata": {},
   "outputs": [
    {
     "data": {
      "text/html": [
       "<div>\n",
       "<style scoped>\n",
       "    .dataframe tbody tr th:only-of-type {\n",
       "        vertical-align: middle;\n",
       "    }\n",
       "\n",
       "    .dataframe tbody tr th {\n",
       "        vertical-align: top;\n",
       "    }\n",
       "\n",
       "    .dataframe thead th {\n",
       "        text-align: right;\n",
       "    }\n",
       "</style>\n",
       "<table border=\"1\" class=\"dataframe\">\n",
       "  <thead>\n",
       "    <tr style=\"text-align: right;\">\n",
       "      <th></th>\n",
       "      <th>Startup</th>\n",
       "      <th>Product</th>\n",
       "      <th>Funding</th>\n",
       "      <th>Event</th>\n",
       "      <th>Result</th>\n",
       "      <th>OperatingState</th>\n",
       "    </tr>\n",
       "  </thead>\n",
       "  <tbody>\n",
       "    <tr>\n",
       "      <th>304</th>\n",
       "      <td>Leapfin</td>\n",
       "      <td>leapfin.com</td>\n",
       "      <td>$1M</td>\n",
       "      <td>Disrupt SF 2015</td>\n",
       "      <td>Finalist</td>\n",
       "      <td>Operating</td>\n",
       "    </tr>\n",
       "    <tr>\n",
       "      <th>356</th>\n",
       "      <td>Money Intel</td>\n",
       "      <td>moneyintel.com</td>\n",
       "      <td>NaN</td>\n",
       "      <td>Disrupt SF 2015</td>\n",
       "      <td>Contestant</td>\n",
       "      <td>Operating</td>\n",
       "    </tr>\n",
       "    <tr>\n",
       "      <th>39</th>\n",
       "      <td>Artomatix</td>\n",
       "      <td>artomatix.com</td>\n",
       "      <td>NaN</td>\n",
       "      <td>Disrupt SF 2015</td>\n",
       "      <td>Contestant</td>\n",
       "      <td>Operating</td>\n",
       "    </tr>\n",
       "    <tr>\n",
       "      <th>146</th>\n",
       "      <td>Dispatch</td>\n",
       "      <td>dispatch.com</td>\n",
       "      <td>$983K</td>\n",
       "      <td>Disrupt SF 2012</td>\n",
       "      <td>Contestant</td>\n",
       "      <td>Acquired</td>\n",
       "    </tr>\n",
       "    <tr>\n",
       "      <th>242</th>\n",
       "      <td>HealthyWage</td>\n",
       "      <td>healthywage.com</td>\n",
       "      <td>NaN</td>\n",
       "      <td>TC50 2009</td>\n",
       "      <td>Contestant</td>\n",
       "      <td>Operating</td>\n",
       "    </tr>\n",
       "  </tbody>\n",
       "</table>\n",
       "</div>"
      ],
      "text/plain": [
       "         Startup          Product Funding            Event      Result  \\\n",
       "304      Leapfin      leapfin.com     $1M  Disrupt SF 2015    Finalist   \n",
       "356  Money Intel   moneyintel.com     NaN  Disrupt SF 2015  Contestant   \n",
       "39     Artomatix    artomatix.com     NaN  Disrupt SF 2015  Contestant   \n",
       "146     Dispatch     dispatch.com   $983K  Disrupt SF 2012  Contestant   \n",
       "242  HealthyWage  healthywage.com     NaN        TC50 2009  Contestant   \n",
       "\n",
       "    OperatingState  \n",
       "304      Operating  \n",
       "356      Operating  \n",
       "39       Operating  \n",
       "146       Acquired  \n",
       "242      Operating  "
      ]
     },
     "execution_count": 2,
     "metadata": {},
     "output_type": "execute_result"
    }
   ],
   "source": [
    "# Read the dataset\n",
    "df=pd.read_csv(\"CompanyX_EU.csv\")\n",
    "df.sample(5)"
   ]
  },
  {
   "cell_type": "markdown",
   "id": "49d9e14d",
   "metadata": {},
   "source": [
    "2.A. Check the datatypes of each attribute"
   ]
  },
  {
   "cell_type": "code",
   "execution_count": 3,
   "id": "278161a4",
   "metadata": {},
   "outputs": [
    {
     "name": "stdout",
     "output_type": "stream",
     "text": [
      "<class 'pandas.core.frame.DataFrame'>\n",
      "RangeIndex: 662 entries, 0 to 661\n",
      "Data columns (total 6 columns):\n",
      " #   Column          Non-Null Count  Dtype \n",
      "---  ------          --------------  ----- \n",
      " 0   Startup         662 non-null    object\n",
      " 1   Product         656 non-null    object\n",
      " 2   Funding         448 non-null    object\n",
      " 3   Event           662 non-null    object\n",
      " 4   Result          662 non-null    object\n",
      " 5   OperatingState  662 non-null    object\n",
      "dtypes: object(6)\n",
      "memory usage: 31.2+ KB\n"
     ]
    }
   ],
   "source": [
    "# Check the datatype of each attribute\n",
    "df.info()"
   ]
  },
  {
   "cell_type": "markdown",
   "id": "cd570848",
   "metadata": {},
   "source": [
    "2.B. Check for null values in the attributes"
   ]
  },
  {
   "cell_type": "code",
   "execution_count": 4,
   "id": "a3331fc8",
   "metadata": {},
   "outputs": [
    {
     "data": {
      "text/plain": [
       "Startup             0\n",
       "Product             6\n",
       "Funding           214\n",
       "Event               0\n",
       "Result              0\n",
       "OperatingState      0\n",
       "dtype: int64"
      ]
     },
     "execution_count": 4,
     "metadata": {},
     "output_type": "execute_result"
    }
   ],
   "source": [
    "# Check for null values in the attributes\n",
    "df.isna().sum()"
   ]
  },
  {
   "cell_type": "markdown",
   "id": "d3468725",
   "metadata": {},
   "source": [
    "3.A. Drop the null values"
   ]
  },
  {
   "cell_type": "code",
   "execution_count": 5,
   "id": "d875b04e",
   "metadata": {},
   "outputs": [],
   "source": [
    "# Drop null values\n",
    "df1=df.dropna()"
   ]
  },
  {
   "cell_type": "markdown",
   "id": "57064149",
   "metadata": {},
   "source": [
    "3.B. Convert the ‘Funding’ features to a numerical value"
   ]
  },
  {
   "cell_type": "code",
   "execution_count": 6,
   "id": "7a8dc3a1",
   "metadata": {},
   "outputs": [
    {
     "name": "stdout",
     "output_type": "stream",
     "text": [
      "<class 'pandas.core.frame.DataFrame'>\n",
      "Int64Index: 446 entries, 1 to 661\n",
      "Data columns (total 7 columns):\n",
      " #   Column            Non-Null Count  Dtype  \n",
      "---  ------            --------------  -----  \n",
      " 0   Startup           446 non-null    object \n",
      " 1   Product           446 non-null    object \n",
      " 2   Funding           446 non-null    object \n",
      " 3   Event             446 non-null    object \n",
      " 4   Result            446 non-null    object \n",
      " 5   OperatingState    446 non-null    object \n",
      " 6   Funds_in_million  446 non-null    float64\n",
      "dtypes: float64(1), object(6)\n",
      "memory usage: 27.9+ KB\n"
     ]
    }
   ],
   "source": [
    "import warnings   \n",
    "# Settings the warnings to be ignored \n",
    "warnings.filterwarnings(\"ignore\") \n",
    "# Convert the ‘Funding’ features to a numerical value\n",
    "df1.loc[:,\"Funds_in_million\"] = df1[\"Funding\"].apply(lambda x: float(x[1:-1])/1000 if x[-1] == 'K' else (float(x[1:-1])*1000 if x[-1] == 'B' else float(x[1:-1])))\n",
    "df1.info()"
   ]
  },
  {
   "cell_type": "markdown",
   "id": "e3f93ee4",
   "metadata": {},
   "source": [
    "3.C. Plot box plot for funds in million"
   ]
  },
  {
   "cell_type": "code",
   "execution_count": 7,
   "id": "7005f6e7",
   "metadata": {},
   "outputs": [
    {
     "data": {
      "image/png": "[encoded data removed]",
      "text/plain": [
       "<Figure size 640x480 with 1 Axes>"
      ]
     },
     "metadata": {},
     "output_type": "display_data"
    }
   ],
   "source": [
    "# Let's import necessary libraries\n",
    "import matplotlib.pyplot as plt\n",
    "%matplotlib inline\n",
    "# Plot box plot for funds in million\n",
    "plot = plt.boxplot(df1[\"Funds_in_million\"])\n",
    "plt.title(\"Boxplot of the funds\")\n",
    "plt.ylabel(\"Funds raised (in Million)\")\n",
    "plt.show()"
   ]
  },
  {
   "cell_type": "markdown",
   "id": "f38e1518",
   "metadata": {},
   "source": [
    "3.D. Check the number of outliers greater than the upper fence"
   ]
  },
  {
   "cell_type": "code",
   "execution_count": 8,
   "id": "549f9e69",
   "metadata": {},
   "outputs": [
    {
     "data": {
      "text/html": [
       "<div>\n",
       "<style scoped>\n",
       "    .dataframe tbody tr th:only-of-type {\n",
       "        vertical-align: middle;\n",
       "    }\n",
       "\n",
       "    .dataframe tbody tr th {\n",
       "        vertical-align: top;\n",
       "    }\n",
       "\n",
       "    .dataframe thead th {\n",
       "        text-align: right;\n",
       "    }\n",
       "</style>\n",
       "<table border=\"1\" class=\"dataframe\">\n",
       "  <thead>\n",
       "    <tr style=\"text-align: right;\">\n",
       "      <th></th>\n",
       "      <th>Funds_in_million</th>\n",
       "    </tr>\n",
       "  </thead>\n",
       "  <tbody>\n",
       "    <tr>\n",
       "      <th>count</th>\n",
       "      <td>446.000000</td>\n",
       "    </tr>\n",
       "    <tr>\n",
       "      <th>mean</th>\n",
       "      <td>17.241489</td>\n",
       "    </tr>\n",
       "    <tr>\n",
       "      <th>std</th>\n",
       "      <td>90.483710</td>\n",
       "    </tr>\n",
       "    <tr>\n",
       "      <th>min</th>\n",
       "      <td>0.005000</td>\n",
       "    </tr>\n",
       "    <tr>\n",
       "      <th>25%</th>\n",
       "      <td>0.745250</td>\n",
       "    </tr>\n",
       "    <tr>\n",
       "      <th>50%</th>\n",
       "      <td>2.200000</td>\n",
       "    </tr>\n",
       "    <tr>\n",
       "      <th>75%</th>\n",
       "      <td>9.475000</td>\n",
       "    </tr>\n",
       "    <tr>\n",
       "      <th>max</th>\n",
       "      <td>1700.000000</td>\n",
       "    </tr>\n",
       "  </tbody>\n",
       "</table>\n",
       "</div>"
      ],
      "text/plain": [
       "       Funds_in_million\n",
       "count        446.000000\n",
       "mean          17.241489\n",
       "std           90.483710\n",
       "min            0.005000\n",
       "25%            0.745250\n",
       "50%            2.200000\n",
       "75%            9.475000\n",
       "max         1700.000000"
      ]
     },
     "execution_count": 8,
     "metadata": {},
     "output_type": "execute_result"
    }
   ],
   "source": [
    "# Let's check few statistical values for Funds_in_million\n",
    "df1.describe()"
   ]
  },
  {
   "cell_type": "code",
   "execution_count": 9,
   "id": "4fccf5d0",
   "metadata": {},
   "outputs": [
    {
     "data": {
      "text/plain": [
       "22.569625"
      ]
     },
     "execution_count": 9,
     "metadata": {},
     "output_type": "execute_result"
    }
   ],
   "source": [
    "# Let's calculate the upper fence => Q3 + 1.5*(Q3-Q1)\n",
    "upper_fence=9.475+1.5*(9.475-0.74525)\n",
    "upper_fence"
   ]
  },
  {
   "cell_type": "code",
   "execution_count": 10,
   "id": "fff9e305",
   "metadata": {},
   "outputs": [
    {
     "name": "stdout",
     "output_type": "stream",
     "text": [
      "Number of outliers:  60\n"
     ]
    }
   ],
   "source": [
    "# Calculate no. of outliers greater than the upper fence\n",
    "no_of_outliers=len(df1[df1[\"Funds_in_million\"] > upper_fence])\n",
    "print(\"Number of outliers: \",no_of_outliers)"
   ]
  },
  {
   "cell_type": "markdown",
   "id": "9be80af9",
   "metadata": {},
   "source": [
    "3.E. Check frequency of the OperatingState features classes"
   ]
  },
  {
   "cell_type": "code",
   "execution_count": 11,
   "id": "413f4921",
   "metadata": {},
   "outputs": [
    {
     "data": {
      "text/plain": [
       "Operating    319\n",
       "Acquired      66\n",
       "Closed        57\n",
       "Ipo            4\n",
       "Name: OperatingState, dtype: int64"
      ]
     },
     "execution_count": 11,
     "metadata": {},
     "output_type": "execute_result"
    }
   ],
   "source": [
    "# Check frequency of the OperatingState features classes\n",
    "df1[\"OperatingState\"].value_counts()"
   ]
  },
  {
   "cell_type": "markdown",
   "id": "5d845c94",
   "metadata": {},
   "source": [
    "4.A. Is there any significant difference between Funds raised by companies that are still operating vs companies that closed down?"
   ]
  },
  {
   "cell_type": "code",
   "execution_count": 12,
   "id": "55afbcba",
   "metadata": {},
   "outputs": [
    {
     "data": {
      "image/png": "[encoded data removed]",
      "text/plain": [
       "<Figure size 1500x500 with 2 Axes>"
      ]
     },
     "metadata": {},
     "output_type": "display_data"
    }
   ],
   "source": [
    "#Let's import necessary libraries\n",
    "import seaborn as sns\n",
    "import warnings   \n",
    "# Settings the warnings to be ignored \n",
    "warnings.filterwarnings(\"ignore\") \n",
    "\n",
    "# Any difference between Funds raised by companies that are still operating vs companies that closed down\n",
    "fig, ax = plt.subplots(1, 2)\n",
    "\n",
    "fig.set_figheight(5)\n",
    "fig.set_figwidth(15)\n",
    "\n",
    "sns.distplot(df1.loc[df1[\"OperatingState\"] == \"Operating\", \"Funds_in_million\"], ax = ax[0])\n",
    "sns.distplot(df1.loc[df1[\"OperatingState\"] == \"Closed\", \"Funds_in_million\"], ax = ax[1])\n",
    "\n",
    "ax[0].set_title(\"Funds raised by the companies still operating\")\n",
    "ax[1].set_title(\"Funds raised by companies that got closed\")\n",
    "plt.show()"
   ]
  },
  {
   "cell_type": "code",
   "execution_count": 13,
   "id": "253e6cd3",
   "metadata": {},
   "outputs": [
    {
     "name": "stdout",
     "output_type": "stream",
     "text": [
      "Unable to state any differences using graphs (visuals)\n"
     ]
    }
   ],
   "source": [
    "print(\"Unable to state any differences using graphs (visuals)\")"
   ]
  },
  {
   "cell_type": "markdown",
   "id": "4e1820a4",
   "metadata": {},
   "source": [
    "4.B. Write the null hypothesis and alternative hypothesis"
   ]
  },
  {
   "cell_type": "code",
   "execution_count": 14,
   "id": "744ac800",
   "metadata": {},
   "outputs": [
    {
     "name": "stdout",
     "output_type": "stream",
     "text": [
      "Null Hypothesis (Ho): There is no difference between the average of Funds raised by companies that are still operating vs companies that closed down\n",
      "Alternate Hypothesis (Ha): There is a significant difference between the average of Funds raised by companies that are still operating vs companies that closed down\n"
     ]
    }
   ],
   "source": [
    "# null hypothesis and alternative hypothesis\n",
    "print(\"Null Hypothesis (Ho): There is no difference between the average of Funds raised by companies that are still operating vs companies that closed down\")\n",
    "print(\"Alternate Hypothesis (Ha): There is a significant difference between the average of Funds raised by companies that are still operating vs companies that closed down\")"
   ]
  },
  {
   "cell_type": "markdown",
   "id": "594cbee8",
   "metadata": {},
   "source": [
    "4.C. Test for significance and conclusion"
   ]
  },
  {
   "cell_type": "code",
   "execution_count": 15,
   "id": "a2e756d0",
   "metadata": {},
   "outputs": [
    {
     "name": "stdout",
     "output_type": "stream",
     "text": [
      "Let s1 and s2 be the two samples of Funds_in_million for OperatingState equal to Operating and Closed respectively\n"
     ]
    }
   ],
   "source": [
    "# Test for significance and conclusion\n",
    "alpha=0.05\n",
    "print(\"Let s1 and s2 be the two samples of Funds_in_million for OperatingState equal to Operating and Closed respectively\")"
   ]
  },
  {
   "cell_type": "code",
   "execution_count": 16,
   "id": "e55560ee",
   "metadata": {},
   "outputs": [
    {
     "name": "stdout",
     "output_type": "stream",
     "text": [
      "Length of sample1:  319\n"
     ]
    }
   ],
   "source": [
    "s1 = df1.loc[df1[\"OperatingState\"] == \"Operating\", \"Funds_in_million\"]\n",
    "print(\"Length of sample1: \",len(s1))"
   ]
  },
  {
   "cell_type": "code",
   "execution_count": 17,
   "id": "b858189d",
   "metadata": {},
   "outputs": [
    {
     "name": "stdout",
     "output_type": "stream",
     "text": [
      "Length of sample2:  57\n"
     ]
    }
   ],
   "source": [
    "s2 = df1.loc[df1[\"OperatingState\"] == \"Closed\", \"Funds_in_million\"]\n",
    "print(\"Length of sample2: \",len(s2))"
   ]
  },
  {
   "cell_type": "code",
   "execution_count": 18,
   "id": "a6318efc",
   "metadata": {},
   "outputs": [
    {
     "name": "stdout",
     "output_type": "stream",
     "text": [
      "We fail to reject the Null hypothesis since the p-value, 0.256 > 0.05 (alpha=Level of significance)\n"
     ]
    }
   ],
   "source": [
    "# Let's import significant libraries\n",
    "import scipy.stats as stats\n",
    "test_statistic, p_value = stats.ttest_ind(s1,s2)\n",
    "if p_value <= alpha:\n",
    "    print(f\"We reject the Null hypothesis since the p-value, {0} < {alpha} (alpha=level of significance)\")\n",
    "else:\n",
    "    print(f\"We fail to reject the Null hypothesis since the p-value, {round(p_value,3)} > {alpha} (alpha=Level of significance)\")"
   ]
  },
  {
   "cell_type": "markdown",
   "id": "8d4b03c2",
   "metadata": {},
   "source": [
    "4.D. Make a copy of the original data frame."
   ]
  },
  {
   "cell_type": "code",
   "execution_count": 19,
   "id": "591faac0",
   "metadata": {},
   "outputs": [
    {
     "data": {
      "text/html": [
       "<div>\n",
       "<style scoped>\n",
       "    .dataframe tbody tr th:only-of-type {\n",
       "        vertical-align: middle;\n",
       "    }\n",
       "\n",
       "    .dataframe tbody tr th {\n",
       "        vertical-align: top;\n",
       "    }\n",
       "\n",
       "    .dataframe thead th {\n",
       "        text-align: right;\n",
       "    }\n",
       "</style>\n",
       "<table border=\"1\" class=\"dataframe\">\n",
       "  <thead>\n",
       "    <tr style=\"text-align: right;\">\n",
       "      <th></th>\n",
       "      <th>Startup</th>\n",
       "      <th>Product</th>\n",
       "      <th>Funding</th>\n",
       "      <th>Event</th>\n",
       "      <th>Result</th>\n",
       "      <th>OperatingState</th>\n",
       "      <th>Funds_in_million</th>\n",
       "    </tr>\n",
       "  </thead>\n",
       "  <tbody>\n",
       "    <tr>\n",
       "      <th>1</th>\n",
       "      <td>3DLT</td>\n",
       "      <td>3dlt.com</td>\n",
       "      <td>$630K</td>\n",
       "      <td>Disrupt NYC 2013</td>\n",
       "      <td>Contestant</td>\n",
       "      <td>Closed</td>\n",
       "      <td>0.63</td>\n",
       "    </tr>\n",
       "    <tr>\n",
       "      <th>3</th>\n",
       "      <td>3Dprintler</td>\n",
       "      <td>3dprintler.com</td>\n",
       "      <td>$1M</td>\n",
       "      <td>Disrupt NY 2016</td>\n",
       "      <td>Audience choice</td>\n",
       "      <td>Operating</td>\n",
       "      <td>1.00</td>\n",
       "    </tr>\n",
       "    <tr>\n",
       "      <th>5</th>\n",
       "      <td>5to1</td>\n",
       "      <td>5to1.com</td>\n",
       "      <td>$19.3M</td>\n",
       "      <td>TC50 2009</td>\n",
       "      <td>Contestant</td>\n",
       "      <td>Acquired</td>\n",
       "      <td>19.30</td>\n",
       "    </tr>\n",
       "    <tr>\n",
       "      <th>6</th>\n",
       "      <td>8 Securities</td>\n",
       "      <td>8securities.com</td>\n",
       "      <td>$29M</td>\n",
       "      <td>Disrupt Beijing 2011</td>\n",
       "      <td>Finalist</td>\n",
       "      <td>Operating</td>\n",
       "      <td>29.00</td>\n",
       "    </tr>\n",
       "    <tr>\n",
       "      <th>10</th>\n",
       "      <td>AdhereTech</td>\n",
       "      <td>adheretech.com</td>\n",
       "      <td>$1.8M</td>\n",
       "      <td>Hardware Battlefield 2014</td>\n",
       "      <td>Contestant</td>\n",
       "      <td>Operating</td>\n",
       "      <td>1.80</td>\n",
       "    </tr>\n",
       "  </tbody>\n",
       "</table>\n",
       "</div>"
      ],
      "text/plain": [
       "         Startup          Product Funding                      Event  \\\n",
       "1           3DLT         3dlt.com   $630K           Disrupt NYC 2013   \n",
       "3     3Dprintler   3dprintler.com     $1M            Disrupt NY 2016   \n",
       "5           5to1         5to1.com  $19.3M                  TC50 2009   \n",
       "6   8 Securities  8securities.com    $29M       Disrupt Beijing 2011   \n",
       "10    AdhereTech   adheretech.com   $1.8M  Hardware Battlefield 2014   \n",
       "\n",
       "             Result OperatingState  Funds_in_million  \n",
       "1        Contestant         Closed              0.63  \n",
       "3   Audience choice      Operating              1.00  \n",
       "5        Contestant       Acquired             19.30  \n",
       "6          Finalist      Operating             29.00  \n",
       "10       Contestant      Operating              1.80  "
      ]
     },
     "execution_count": 19,
     "metadata": {},
     "output_type": "execute_result"
    }
   ],
   "source": [
    "# Make a copy of the original data frame\n",
    "df2 = df1.copy()\n",
    "df2.head()"
   ]
  },
  {
   "cell_type": "markdown",
   "id": "988eb215",
   "metadata": {},
   "source": [
    "4.E. Check frequency distribution of Result variables"
   ]
  },
  {
   "cell_type": "code",
   "execution_count": 20,
   "id": "0bdf2e9a",
   "metadata": {},
   "outputs": [
    {
     "data": {
      "text/plain": [
       "Contestant         312\n",
       "Finalist            65\n",
       "Audience choice     25\n",
       "Winner              25\n",
       "Runner up           19\n",
       "Name: Result, dtype: int64"
      ]
     },
     "execution_count": 20,
     "metadata": {},
     "output_type": "execute_result"
    }
   ],
   "source": [
    "# Check frequency distribution of Result variables\n",
    "df2[\"Result\"].value_counts()"
   ]
  },
  {
   "cell_type": "markdown",
   "id": "87323fbb",
   "metadata": {},
   "source": [
    "4.F. Calculate percentage of winners that are still operating and percentage of contestants that are still operating "
   ]
  },
  {
   "cell_type": "code",
   "execution_count": 21,
   "id": "df47d90a",
   "metadata": {},
   "outputs": [
    {
     "name": "stdout",
     "output_type": "stream",
     "text": [
      "Total winners:  25\n",
      "Total contestants:  312\n",
      "Operating winners:  18\n",
      "Operating contestants:  214\n",
      "Percentage of Operating Winners:  72.0\n",
      "Percentage of Operating Contestants:  68.59\n"
     ]
    }
   ],
   "source": [
    "# Calculate percentage of winners that are still operating and percentage of contestants that are still operating \n",
    "winners = df2[\"Result\"].value_counts()[\"Winner\"]\n",
    "print(\"Total winners: \",winners)\n",
    "contestants = df2[\"Result\"].value_counts()[\"Contestant\"]\n",
    "print(\"Total contestants: \",contestants)\n",
    "operating_w = df2[\"OperatingState\"][df2[\"Result\"] == 'Winner'].value_counts().loc[\"Operating\"]\n",
    "print(\"Operating winners: \",operating_w)\n",
    "operating_c = df2[\"OperatingState\"][df2[\"Result\"] == 'Contestant'].value_counts().loc[\"Operating\"]\n",
    "print(\"Operating contestants: \",operating_c)\n",
    "print(\"Percentage of Operating Winners: \",round(operating_w*100/winners,2)) \n",
    "print(\"Percentage of Operating Contestants: \",round(operating_c*100/contestants,2)) "
   ]
  },
  {
   "cell_type": "markdown",
   "id": "a800a1c6",
   "metadata": {},
   "source": [
    "4.G. Write your hypothesis comparing the proportion of companies that are operating between winners and contestants"
   ]
  },
  {
   "cell_type": "code",
   "execution_count": 22,
   "id": "05f40378",
   "metadata": {},
   "outputs": [
    {
     "name": "stdout",
     "output_type": "stream",
     "text": [
      "Null hypothesis (Ho): Proportion of companies that are operating between winners and contestants is same in both categories.\n",
      "Alternative hypothesis (Ha): Proportion of companies that are operating between winners and contestants is different from each other\n"
     ]
    }
   ],
   "source": [
    "# Write your hypothesis comparing the proportion of companies that are operating between winners and contestants\n",
    "print(\"Null hypothesis (Ho): Proportion of companies that are operating between winners and contestants is same in both categories.\")\n",
    "print(\"Alternative hypothesis (Ha): Proportion of companies that are operating between winners and contestants is different from each other\")"
   ]
  },
  {
   "cell_type": "markdown",
   "id": "4a52d0f7",
   "metadata": {},
   "source": [
    "4.H. Test for significance and conclusion"
   ]
  },
  {
   "cell_type": "code",
   "execution_count": 23,
   "id": "e22e378c",
   "metadata": {},
   "outputs": [
    {
     "name": "stdout",
     "output_type": "stream",
     "text": [
      "We fail to reject the Null hypothesis since the p-value, 0.723 > 0.05 (alpha=Level of significance)\n"
     ]
    }
   ],
   "source": [
    "# Test for significance and conclusion\n",
    "# Let's import significant libraries\n",
    "from statsmodels.stats.proportion import proportions_ztest\n",
    "alpha=0.05\n",
    "test_statistic, p_value = proportions_ztest([operating_c, operating_w], [contestants, winners])\n",
    "\n",
    "if p_value <= alpha:\n",
    "    print(f\"We reject the Null hypothesis since the p-value, {round(p_value,3)} < {alpha} (alpha=level of significance)\")\n",
    "else:\n",
    "    print(f\"We fail to reject the Null hypothesis since the p-value, {round(p_value,3)} > {alpha} (alpha=Level of significance)\")"
   ]
  },
  {
   "cell_type": "markdown",
   "id": "cf38f3a8",
   "metadata": {},
   "source": [
    "4.I. Select only the Event that has ‘disrupt’ keyword from 2013 onwards"
   ]
  },
  {
   "cell_type": "code",
   "execution_count": 24,
   "id": "5e7a25eb",
   "metadata": {},
   "outputs": [
    {
     "data": {
      "text/plain": [
       "3          Disrupt NY 2016\n",
       "13         Disrupt SF 2015\n",
       "14     Disrupt London 2016\n",
       "16         Disrupt SF 2015\n",
       "18        Disrupt NYC 2014\n",
       "              ...         \n",
       "633        Disrupt NY 2015\n",
       "634        Disrupt SF 2015\n",
       "635        Disrupt NY 2015\n",
       "642        Disrupt SF 2014\n",
       "646    Disrupt London 2015\n",
       "Name: Event, Length: 140, dtype: object"
      ]
     },
     "execution_count": 24,
     "metadata": {},
     "output_type": "execute_result"
    }
   ],
   "source": [
    "# Select only the Event that has ‘disrupt’ keyword from 2013 onwards\n",
    "events = df2[df2[\"Event\"].apply(lambda e: 'Disrupt' in e and int(e[-4:]) > 2013)][\"Event\"] \n",
    "events"
   ]
  },
  {
   "cell_type": "code",
   "execution_count": null,
   "id": "d777a1cf",
   "metadata": {},
   "outputs": [],
   "source": []
  }
 ],
 "metadata": {
  "kernelspec": {
   "display_name": "Python 3 (ipykernel)",
   "language": "python",
   "name": "python3"
  },
  "language_info": {
   "codemirror_mode": {
    "name": "ipython",
    "version": 3
   },
   "file_extension": ".py",
   "mimetype": "text/x-python",
   "name": "python",
   "nbconvert_exporter": "python",
   "pygments_lexer": "ipython3",
   "version": "3.11.4"
  }
 },
 "nbformat": 4,
 "nbformat_minor": 5
}
