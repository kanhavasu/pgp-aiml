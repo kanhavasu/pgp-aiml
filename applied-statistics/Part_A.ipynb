{
 "cells": [
  {
   "cell_type": "markdown",
   "id": "46894ebb",
   "metadata": {},
   "source": [
    "# Part A"
   ]
  },
  {
   "cell_type": "markdown",
   "id": "10fe406f",
   "metadata": {},
   "source": [
    "1.A. Find the joint probability of the people who planned to purchase and actually placed an order. "
   ]
  },
  {
   "cell_type": "code",
   "execution_count": 3,
   "id": "e5b6a870",
   "metadata": {},
   "outputs": [
    {
     "name": "stdout",
     "output_type": "stream",
     "text": [
      "Probability of the people who planned to purchase and actually placed an order:  0.2\n"
     ]
    }
   ],
   "source": [
    "# From the given table n(people who planned to purchased and actually placed order)=400\n",
    "# and n(Total people)=2000\n",
    "# P(people who planned to purchased and actually placed order)=n(people who planned to purchased and actually placed order)/n(Total people)\n",
    "# The probability is (p)=400/2000\n",
    "p=400/2000\n",
    "print(\"Probability of the people who planned to purchase and actually placed an order: \",p)"
   ]
  },
  {
   "cell_type": "markdown",
   "id": "c13174e9",
   "metadata": {},
   "source": [
    "1.B. Find the joint probability of the people who planned to purchase and actually placed an order, given that people planned to purchase."
   ]
  },
  {
   "cell_type": "code",
   "execution_count": 4,
   "id": "d92ab9cf",
   "metadata": {},
   "outputs": [
    {
     "name": "stdout",
     "output_type": "stream",
     "text": [
      "Probability of the people who planned to purchase:  0.25\n",
      "Probability of the people who planned to purchase and actually placed an order, given that people planned to purchase:  0.8\n"
     ]
    }
   ],
   "source": [
    "# From the given table n(People planned to purchase)=500\n",
    "# and n(Total people)=2000\n",
    "# P(people planned to purchase)=n(people planned to purchase)/n(Total people)\n",
    "# The probability is (p1)=500/2000\n",
    "p1=500/2000\n",
    "print(\"Probability of the people who planned to purchase: \",p1)\n",
    "# P(people who planned to purchase and actually placed an order, given that people planned to purchase)=p2=p/p1\n",
    "p2=p/p1\n",
    "print(\"Probability of the people who planned to purchase and actually placed an order, given that people planned to purchase: \",p2)"
   ]
  },
  {
   "cell_type": "code",
   "execution_count": 3,
   "id": "1ed2e0f5",
   "metadata": {},
   "outputs": [],
   "source": [
    "import numpy as np\n",
    "import scipy.stats as stats"
   ]
  },
  {
   "cell_type": "code",
   "execution_count": 9,
   "id": "7fe4ed3f",
   "metadata": {},
   "outputs": [
    {
     "name": "stdout",
     "output_type": "stream",
     "text": [
      "Failure rate:  0.05\n",
      "No. of samples:  10\n",
      "List of possible manufactured items:  [ 0  1  2  3  4  5  6  7  8  9 10]\n",
      "Probability distribution given by:  [5.98736939e-01 3.15124705e-01 7.46347985e-02 1.04750594e-02\n",
      " 9.64808106e-04 6.09352488e-05 2.67259863e-06 8.03789062e-08\n",
      " 1.58642578e-09 1.85546875e-11 9.76562500e-14]\n",
      "Cumulative probability distribution given by:  [0.59873694 0.91386164 0.98849644 0.9989715  0.99993631 0.99999725\n",
      " 0.99999992 1.         1.         1.         1.        ]\n"
     ]
    }
   ],
   "source": [
    "# failure rate=5%\n",
    "p=5/100\n",
    "# number of samples=10\n",
    "n=10\n",
    "# list of possible manufactured items=k\n",
    "k=np.arange(n+1)\n",
    "print(\"Failure rate: \",p)\n",
    "print(\"No. of samples: \",n)\n",
    "print(\"List of possible manufactured items: \",k)\n",
    "# probability distribution=binomial\n",
    "binomial=stats.binom.pmf(k=k,n=n,p=p)\n",
    "print(\"Probability distribution given by: \",binomial)\n",
    "cumulative_binomial=stats.binom.cdf(k=k,n=n,p=p)\n",
    "print(\"Cumulative probability distribution given by: \",cumulative_binomial)"
   ]
  },
  {
   "cell_type": "markdown",
   "id": "e475ecce",
   "metadata": {},
   "source": [
    "2.A. Probability that none of the items are defective"
   ]
  },
  {
   "cell_type": "code",
   "execution_count": 10,
   "id": "b398aaa7",
   "metadata": {},
   "outputs": [
    {
     "name": "stdout",
     "output_type": "stream",
     "text": [
      "Probability that none of the items are defective:  0.5987369392383787\n"
     ]
    }
   ],
   "source": [
    "print(\"Probability that none of the items are defective: \",binomial[0])"
   ]
  },
  {
   "cell_type": "markdown",
   "id": "c316de78",
   "metadata": {},
   "source": [
    "2.B. Probability that exactly one of the items is defective"
   ]
  },
  {
   "cell_type": "code",
   "execution_count": 11,
   "id": "5291d6e3",
   "metadata": {},
   "outputs": [
    {
     "name": "stdout",
     "output_type": "stream",
     "text": [
      "Probability that exactly one of the items is defective:  0.3151247048623047\n"
     ]
    }
   ],
   "source": [
    "print(\"Probability that exactly one of the items is defective: \",binomial[1])"
   ]
  },
  {
   "cell_type": "markdown",
   "id": "7a2be64b",
   "metadata": {},
   "source": [
    "2.C. Probability that two or fewer of the items are defective"
   ]
  },
  {
   "cell_type": "code",
   "execution_count": 12,
   "id": "bdeaea4d",
   "metadata": {},
   "outputs": [
    {
     "name": "stdout",
     "output_type": "stream",
     "text": [
      "Probability that two or fewer of the items are defective:  0.9884964426207031\n"
     ]
    }
   ],
   "source": [
    "print(\"Probability that two or fewer of the items are defective: \",cumulative_binomial[2])"
   ]
  },
  {
   "cell_type": "markdown",
   "id": "08f068cb",
   "metadata": {},
   "source": [
    "2.D. Probability that three or more of the items are defective"
   ]
  },
  {
   "cell_type": "code",
   "execution_count": 13,
   "id": "91476f89",
   "metadata": {},
   "outputs": [
    {
     "name": "stdout",
     "output_type": "stream",
     "text": [
      "Probability that two or fewer of the items are defective:  0.01150355737929687\n"
     ]
    }
   ],
   "source": [
    "print(\"Probability that two or fewer of the items are defective: \",1-cumulative_binomial[2])"
   ]
  },
  {
   "cell_type": "code",
   "execution_count": 8,
   "id": "b02d142a",
   "metadata": {},
   "outputs": [
    {
     "name": "stdout",
     "output_type": "stream",
     "text": [
      "Cumulative probaility distribution:  [0.04978707 0.19914827 0.42319008 0.64723189 0.81526324 0.91608206\n",
      " 0.96649146 0.9880955  0.99619701 0.99889751 0.99970766 0.99992861\n",
      " 0.99998385 0.9999966  0.99999933]\n"
     ]
    }
   ],
   "source": [
    "# Average sale per week=rate\n",
    "rate=3\n",
    "# Let n be the number of weeks\n",
    "n=np.arange(15)\n",
    "# Let cumulative_poisson be the cumulative probability distribution\n",
    "cumulative_poisson=stats.poisson.cdf(n,rate)\n",
    "print(\"Cumulative probaility distribution: \",cumulative_poisson)"
   ]
  },
  {
   "cell_type": "markdown",
   "id": "f2a49e6b",
   "metadata": {},
   "source": [
    "3.A. What is probability that in a given week he will sell some cars?"
   ]
  },
  {
   "cell_type": "code",
   "execution_count": 16,
   "id": "867e659d",
   "metadata": {},
   "outputs": [
    {
     "name": "stdout",
     "output_type": "stream",
     "text": [
      "Probability that in a given week he will sell some cars:  0.950212931632136\n"
     ]
    }
   ],
   "source": [
    "print(\"Probability that in a given week he will sell some cars: \",1-cumulative_poisson[0])"
   ]
  },
  {
   "cell_type": "markdown",
   "id": "c8c61435",
   "metadata": {},
   "source": [
    "3.B. What is Probability that in a given week he will sell 2 or more but less than 5 cars?"
   ]
  },
  {
   "cell_type": "code",
   "execution_count": 19,
   "id": "b172da02",
   "metadata": {},
   "outputs": [
    {
     "name": "stdout",
     "output_type": "stream",
     "text": [
      "Probability that in a given week he will sell 2 or more but less than 5 cars:  0.6161149710523164\n"
     ]
    }
   ],
   "source": [
    "print(\"Probability that in a given week he will sell 2 or more but less than 5 cars: \",cumulative_poisson[4]-cumulative_poisson[1])"
   ]
  },
  {
   "cell_type": "code",
   "execution_count": 6,
   "id": "794ec117",
   "metadata": {},
   "outputs": [],
   "source": [
    "import matplotlib.pyplot as plt\n",
    "%matplotlib inline"
   ]
  },
  {
   "cell_type": "markdown",
   "id": "8e5a855d",
   "metadata": {},
   "source": [
    "3.C. Plot the poisson distribution function for cumulative probability of cars sold per-week vs number of cars sold per week."
   ]
  },
  {
   "cell_type": "code",
   "execution_count": 9,
   "id": "46f0d941",
   "metadata": {
    "scrolled": false
   },
   "outputs": [
    {
     "data": {
      "image/png": "[encoded data removed]",
      "text/plain": [
       "<Figure size 640x480 with 1 Axes>"
      ]
     },
     "metadata": {},
     "output_type": "display_data"
    }
   ],
   "source": [
    "# Let poisson be the probability distribution\n",
    "plt.plot(n,cumulative_poisson, 'o-')\n",
    "plt.title('Poisson')\n",
    "plt.xlabel('Number of cars sold per week')\n",
    "plt.ylabel('Cumulative Probability of cars sold per week')\n",
    "plt.show()"
   ]
  },
  {
   "cell_type": "code",
   "execution_count": 3,
   "id": "909f89ea",
   "metadata": {},
   "outputs": [
    {
     "name": "stdout",
     "output_type": "stream",
     "text": [
      "Recognition probability (p):  0.868\n",
      "Not recognition probability (q):  0.132\n"
     ]
    }
   ],
   "source": [
    "# Let p be recognition probability\n",
    "p=86.8/100\n",
    "print(\"Recognition probability (p): \",p)\n",
    "q=1-p\n",
    "print(\"Not recognition probability (q): \",q)"
   ]
  },
  {
   "cell_type": "markdown",
   "id": "029e5c78",
   "metadata": {},
   "source": [
    "4.A. What is the probability that all three orders will be recognised correctly?"
   ]
  },
  {
   "cell_type": "code",
   "execution_count": 25,
   "id": "8ce187ac",
   "metadata": {},
   "outputs": [
    {
     "name": "stdout",
     "output_type": "stream",
     "text": [
      "Probability that all three orders will be recognised correctly:  0.653972032\n"
     ]
    }
   ],
   "source": [
    "print(\"Probability that all three orders will be recognised correctly: \",p*p*p)"
   ]
  },
  {
   "cell_type": "markdown",
   "id": "89f1dc7b",
   "metadata": {},
   "source": [
    "4.B. What is the probability that none of the three orders will be recognised correctly?"
   ]
  },
  {
   "cell_type": "code",
   "execution_count": 26,
   "id": "99847bac",
   "metadata": {},
   "outputs": [
    {
     "name": "stdout",
     "output_type": "stream",
     "text": [
      "Probability that none of the three orders will be recognised correctly:  0.0022999680000000003\n"
     ]
    }
   ],
   "source": [
    "print(\"Probability that none of the three orders will be recognised correctly: \",q*q*q)"
   ]
  },
  {
   "cell_type": "markdown",
   "id": "2acfcd84",
   "metadata": {},
   "source": [
    "4.C. What is the probability that at least two of the three orders will be recognised correctly?"
   ]
  },
  {
   "cell_type": "code",
   "execution_count": 5,
   "id": "729bf276",
   "metadata": {},
   "outputs": [
    {
     "name": "stdout",
     "output_type": "stream",
     "text": [
      "Probability that at least two of the three orders will be recognised correctly:  0.952327936\n"
     ]
    }
   ],
   "source": [
    "print(\"Probability that at least two of the three orders will be recognised correctly: \",(3*p*p*q)+(p*p*p))"
   ]
  },
  {
   "cell_type": "markdown",
   "id": "e26f71b4",
   "metadata": {},
   "source": [
    "5. Explain 1 real life industry scenario (other than the ones mentioned above) where you can use the concepts learnt in this module of Applied Statistics to get data driven business solution."
   ]
  },
  {
   "cell_type": "markdown",
   "id": "da0c2a30",
   "metadata": {},
   "source": [
    "Let's explore a real-life scenario in the context of education where applied statistics can be employed to enhance student performance through data-driven interventions.\n",
    "\n",
    "# Scenario: Educational Performance Improvement #\n",
    "\n",
    "## A. Problem Statement: ##\n",
    "\n",
    "A District Inspector of School (DIOS) is concerned about the academic performance of its students, particularly in standardized tests. The DIOS wants to identify factors that may be affecting student performance and develop strategies to improve overall academic outcomes.\n",
    "\n",
    "## B. Data Collection: ##\n",
    "\n",
    "The DIOS gathers a variety of data to understand the factors influencing student performance:\n",
    "\n",
    "#### B.1. Student Demographics: ####\n",
    "Collect information on student demographics, including socio-economic status, ethnicity, and language proficiency.\n",
    "\n",
    "#### B.2. Classroom Environment: #### \n",
    "Consider factors related to the learning environment, such as class size, teacher-student ratio, and access to educational resources.\n",
    "\n",
    "#### B.3. Previous Academic Performance: #### \n",
    "Examine students' historical academic performance to identify trends or patterns.\n",
    "\n",
    "#### B.4. Teacher Effectiveness: #### \n",
    "Evaluate teacher performance, experience, and instructional methods.\n",
    "\n",
    "#### B.5. Parental Involvement: #### \n",
    "Collect data on the level of parental involvement in students' education.\n",
    "\n",
    "\n",
    "## C. Applied Statistics Approach: ##\n",
    "\n",
    "In this scenario of educational performance improvement, applied statistics can be a powerful tool to analyse and interpret the collected data, leading to data-driven interventions. Let's delve deeper into the applied statistics approach:\n",
    "\n",
    "### C.1. Descriptive Statistics: ### \n",
    "The objective of descriptive statistics is to gain insights into the distribution and characteristics of student performance scores. Utilize descriptive statistics to understand the distribution of student performance scores, identifying any patterns or anomalies. \n",
    "\n",
    "#### C.1.a. Mean, Median, and Mode: #### \n",
    "Calculate the mean (the average), median (the middle value), and mode (the most frequent value) of student performance scores. This provides a central tendency measure.\n",
    "\n",
    "#### C.1.b. Standard Deviation and Variance: #### \n",
    "Calculate the standard deviation and variance of student performance scores. This helps in understanding the spread or dispersion of scores around the mean.\n",
    "\n",
    "#### C.1.c. Histograms and Frequency Distributions: #### \n",
    "Create histograms to visualize the distribution of student performance scores. This can reveal patterns, such as whether scores are normally distributed or skewed.\n",
    "\n",
    "#### C.1.d. Box Plots: #### \n",
    "Construct box plots to identify outliers and understand the range and distribution of scores within different demographic or environmental categories.\n",
    "\n",
    "### C.2. Correlation Analysis: ### \n",
    "Perform correlation analysis to identify relationships between different variables and academic performance. The objective of correlation analysis is to identify relationships between different variables and academic performance.\n",
    "\n",
    "#### C.2.a. Correlation Coefficients: #### \n",
    "Calculate correlation coefficients (e.g., Pearson's correlation) between student performance and various factors like demographics, classroom environment, previous academic performance, teacher effectiveness, and parental involvement.\n",
    "\n",
    "#### C.2.b. Heat Maps: #### \n",
    "Create heat maps to visualize the strength and direction of correlations. This can help identify which factors are strongly correlated with academic performance.\n",
    "\n",
    "#### C.2.c. Scatter Plots: #### \n",
    "Generate scatter plots to visually represent the relationships between two variables, helping to identify trends or patterns.\n",
    "\n",
    "#### C.2.d. Multiple Regression Analysis: #### \n",
    "Perform multiple regression analysis to understand the combined effect of multiple variables on student performance. This can help in identifying the most influential factors.\n",
    "\n",
    "## D. Data-Driven Interventions (based on analysis): ##\n",
    "\n",
    "#### D.1. Identify Key Factors: #### \n",
    "Determine which factors have a significant impact on student performance based on correlation coefficients and regression analysis.\n",
    "\n",
    "#### D.2. Targeted Interventions: #### \n",
    "Develop targeted interventions addressing specific factors identified as crucial. For example, if teacher effectiveness is a significant factor, provide professional development opportunities for teachers.\n",
    "\n",
    "#### D.3. Resource Allocation: #### \n",
    "Allocate resources strategically based on the analysis. For instance, if class size is correlated with performance, consider hiring more teachers to reduce class sizes.\n",
    "\n",
    "#### D.4. Monitoring and Evaluation: #### \n",
    "Implement the interventions and continuously monitor their impact on student performance. Adjust strategies as needed based on ongoing data analysis.\n",
    "\n",
    "#### D.5. Feedback Loop: #### \n",
    "Establish a feedback loop to continually refine interventions based on new data and evolving circumstances.\n",
    "\n",
    "By employing this applied statistics approach, the DIOS can make informed decisions to enhance student performance and improve overall academic outcomes. It provides a systematic and evidence-based method for addressing the complex interplay of factors influencing education."
   ]
  },
  {
   "cell_type": "code",
   "execution_count": null,
   "id": "35672aa3",
   "metadata": {},
   "outputs": [],
   "source": []
  }
 ],
 "metadata": {
  "kernelspec": {
   "display_name": "Python 3 (ipykernel)",
   "language": "python",
   "name": "python3"
  },
  "language_info": {
   "codemirror_mode": {
    "name": "ipython",
    "version": 3
   },
   "file_extension": ".py",
   "mimetype": "text/x-python",
   "name": "python",
   "nbconvert_exporter": "python",
   "pygments_lexer": "ipython3",
   "version": "3.11.4"
  }
 },
 "nbformat": 4,
 "nbformat_minor": 5
}
